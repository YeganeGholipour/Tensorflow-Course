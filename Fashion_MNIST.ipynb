{
 "cells": [
  {
   "cell_type": "code",
   "execution_count": 1,
   "metadata": {
    "id": "voeyHZpP4lLx"
   },
   "outputs": [],
   "source": [
    "# Importing necessary libraries\n",
    "\n",
    "import tensorflow as tf\n",
    "import numpy as np\n",
    "import matplotlib.pyplot as plt\n",
    "from tensorflow import keras"
   ]
  },
  {
   "cell_type": "code",
   "execution_count": 2,
   "metadata": {
    "colab": {
     "base_uri": "https://localhost:8080/",
     "height": 35
    },
    "id": "c9LR9GAu4m1l",
    "outputId": "1962840a-642c-432f-aec2-60d106b45804"
   },
   "outputs": [
    {
     "data": {
      "application/vnd.google.colaboratory.intrinsic+json": {
       "type": "string"
      },
      "text/plain": [
       "'2.9.2'"
      ]
     },
     "execution_count": 2,
     "metadata": {},
     "output_type": "execute_result"
    }
   ],
   "source": [
    "tf.__version__"
   ]
  },
  {
   "cell_type": "code",
   "execution_count": 3,
   "metadata": {
    "id": "wRI41qvL4u25"
   },
   "outputs": [],
   "source": [
    "# Loading the fasion MNIST dataset from Keras API\n",
    "\n",
    "fashion_mnist = keras.datasets.fashion_mnist"
   ]
  },
  {
   "cell_type": "code",
   "execution_count": 4,
   "metadata": {
    "colab": {
     "base_uri": "https://localhost:8080/"
    },
    "id": "-847c_Ji42tr",
    "outputId": "cacda73e-5c6b-4d0f-cd11-ea2372e757c6"
   },
   "outputs": [
    {
     "name": "stdout",
     "output_type": "stream",
     "text": [
      "Downloading data from https://storage.googleapis.com/tensorflow/tf-keras-datasets/train-labels-idx1-ubyte.gz\n",
      "29515/29515 [==============================] - 0s 0us/step\n",
      "Downloading data from https://storage.googleapis.com/tensorflow/tf-keras-datasets/train-images-idx3-ubyte.gz\n",
      "26421880/26421880 [==============================] - 2s 0us/step\n",
      "Downloading data from https://storage.googleapis.com/tensorflow/tf-keras-datasets/t10k-labels-idx1-ubyte.gz\n",
      "5148/5148 [==============================] - 0s 0us/step\n",
      "Downloading data from https://storage.googleapis.com/tensorflow/tf-keras-datasets/t10k-images-idx3-ubyte.gz\n",
      "4422102/4422102 [==============================] - 0s 0us/step\n"
     ]
    }
   ],
   "source": [
    "# Load the train and test split from fashion MNIST dataset\n",
    "\n",
    "(train_img, train_labels), (test_img, test_labels) = fashion_mnist.load_data()"
   ]
  },
  {
   "cell_type": "code",
   "execution_count": 5,
   "metadata": {
    "colab": {
     "base_uri": "https://localhost:8080/"
    },
    "id": "5YMyovj65BWo",
    "outputId": "b41f6738-04be-4046-eb19-f8d30dfe4f40"
   },
   "outputs": [
    {
     "name": "stdout",
     "output_type": "stream",
     "text": [
      "training set images shape is : (60000, 28, 28)\n",
      "training set labels shape is : (60000,)\n",
      "test set images shape is : (10000, 28, 28)\n",
      "training set labels shape is : (10000,)\n"
     ]
    }
   ],
   "source": [
    "# Shape of the dataset\n",
    "\n",
    "print(f'training set images shape is : {train_img.shape}')\n",
    "print(f'training set labels shape is : {train_labels.shape}')\n",
    "print(f'test set images shape is : {test_img.shape}')\n",
    "print(f'training set labels shape is : {test_labels.shape}')\n",
    "\n"
   ]
  },
  {
   "cell_type": "code",
   "execution_count": 8,
   "metadata": {
    "colab": {
     "base_uri": "https://localhost:8080/",
     "height": 464
    },
    "id": "Kx1akeYa5DQa",
    "outputId": "1020f595-efc0-49ec-d272-cfc0d85e4910"
   },
   "outputs": [
    {
     "data": {
      "image/png": "[encoded data removed]",
      "text/plain": [
       "<Figure size 1152x1152 with 8 Axes>"
      ]
     },
     "metadata": {
      "needs_background": "light"
     },
     "output_type": "display_data"
    }
   ],
   "source": [
    "# Plotting the training set images\n",
    "\n",
    "fig = plt.gcf()\n",
    "fig.set_size_inches(16,16)\n",
    "for index in range(8):\n",
    "    sp = plt.subplot(4,4,index+1)\n",
    "    plt.imshow(train_img[index], cmap='gray')"
   ]
  },
  {
   "cell_type": "markdown",
   "metadata": {
    "id": "8SNKLGLusm3N"
   },
   "source": [
    "# New Section"
   ]
  },
  {
   "cell_type": "code",
   "execution_count": 9,
   "metadata": {
    "id": "dm5iQ0ME5DXL"
   },
   "outputs": [],
   "source": [
    "# Normalizing the pixel values from 0 to 1\n",
    "\n",
    "train_img = train_img/255.0\n",
    "test_img = test_img/255.0"
   ]
  },
  {
   "cell_type": "code",
   "execution_count": 10,
   "metadata": {
    "id": "6oto8i1C5Dcy"
   },
   "outputs": [],
   "source": [
    "# Defining the convolutional model with 3 conv. layers and 3 layers of pooling and 2 dense layers\n",
    "\n",
    "model = keras.models.Sequential([\n",
    "        keras.layers.Conv2D(64,(3,3), activation='relu', input_shape=(28,28,1)),\n",
    "        keras.layers.MaxPooling2D(2,2),\n",
    "        keras.layers.Conv2D(64,(3,3), activation='relu'),\n",
    "        keras.layers.MaxPooling2D(2,2),\n",
    "        keras.layers.Conv2D(16,(3,3), activation='relu'),\n",
    "        keras.layers.MaxPooling2D(2,2),\n",
    "        keras.layers.Flatten(),\n",
    "        keras.layers.Dense(128, activation='relu'),\n",
    "        keras.layers.Dense(10, activation='softmax')\n",
    "])"
   ]
  },
  {
   "cell_type": "code",
   "execution_count": 11,
   "metadata": {
    "colab": {
     "base_uri": "https://localhost:8080/"
    },
    "id": "dv3MtDOgy8Do",
    "outputId": "f0a76dd5-8304-4b04-8bce-f9f42da77a2f"
   },
   "outputs": [
    {
     "name": "stdout",
     "output_type": "stream",
     "text": [
      "Model: \"sequential\"\n",
      "_________________________________________________________________\n",
      " Layer (type)                Output Shape              Param #   \n",
      "=================================================================\n",
      " conv2d (Conv2D)             (None, 26, 26, 64)        640       \n",
      "                                                                 \n",
      " max_pooling2d (MaxPooling2D  (None, 13, 13, 64)       0         \n",
      " )                                                               \n",
      "                                                                 \n",
      " conv2d_1 (Conv2D)           (None, 11, 11, 64)        36928     \n",
      "                                                                 \n",
      " max_pooling2d_1 (MaxPooling  (None, 5, 5, 64)         0         \n",
      " 2D)                                                             \n",
      "                                                                 \n",
      " conv2d_2 (Conv2D)           (None, 3, 3, 16)          9232      \n",
      "                                                                 \n",
      " max_pooling2d_2 (MaxPooling  (None, 1, 1, 16)         0         \n",
      " 2D)                                                             \n",
      "                                                                 \n",
      " flatten (Flatten)           (None, 16)                0         \n",
      "                                                                 \n",
      " dense (Dense)               (None, 128)               2176      \n",
      "                                                                 \n",
      " dense_1 (Dense)             (None, 10)                1290      \n",
      "                                                                 \n",
      "=================================================================\n",
      "Total params: 50,266\n",
      "Trainable params: 50,266\n",
      "Non-trainable params: 0\n",
      "_________________________________________________________________\n"
     ]
    }
   ],
   "source": [
    "# Printing out the model summary\n",
    "\n",
    "model.summary()"
   ]
  },
  {
   "cell_type": "code",
   "execution_count": 12,
   "metadata": {
    "colab": {
     "base_uri": "https://localhost:8080/"
    },
    "id": "_kagUX8Y5DgD",
    "outputId": "f9668ab8-5cef-44dc-8e86-d6131b14dc31"
   },
   "outputs": [
    {
     "name": "stdout",
     "output_type": "stream",
     "text": [
      "Epoch 1/5\n",
      "1875/1875 [==============================] - 102s 54ms/step - loss: 0.6354 - accuracy: 0.7649\n",
      "Epoch 2/5\n",
      "1875/1875 [==============================] - 98s 52ms/step - loss: 0.4136 - accuracy: 0.8479\n",
      "Epoch 3/5\n",
      "1875/1875 [==============================] - 96s 51ms/step - loss: 0.3549 - accuracy: 0.8701\n",
      "Epoch 4/5\n",
      "1875/1875 [==============================] - 98s 52ms/step - loss: 0.3223 - accuracy: 0.8828\n",
      "Epoch 5/5\n",
      "1875/1875 [==============================] - 96s 51ms/step - loss: 0.3033 - accuracy: 0.8893\n"
     ]
    },
    {
     "data": {
      "text/plain": [
       "<keras.callbacks.History at 0x7f5926f9d370>"
      ]
     },
     "execution_count": 12,
     "metadata": {},
     "output_type": "execute_result"
    }
   ],
   "source": [
    "# Fitting the data into the model\n",
    "\n",
    "from tensorflow.keras.optimizers import RMSprop\n",
    "\n",
    "model.compile(optimizer= RMSprop(learning_rate=0.001), loss='sparse_categorical_crossentropy', metrics=['accuracy'])\n",
    "\n",
    "model.fit(train_img, train_labels, epochs=5)"
   ]
  },
  {
   "cell_type": "code",
   "execution_count": 13,
   "metadata": {
    "colab": {
     "base_uri": "https://localhost:8080/"
    },
    "id": "J3HsfHe15Di9",
    "outputId": "30ace5f9-9388-42c9-dc83-c84179d328d8"
   },
   "outputs": [
    {
     "name": "stdout",
     "output_type": "stream",
     "text": [
      "313/313 [==============================] - 5s 15ms/step - loss: 0.3676 - accuracy: 0.8694\n"
     ]
    },
    {
     "data": {
      "text/plain": [
       "[0.36764398217201233, 0.8694000244140625]"
      ]
     },
     "execution_count": 13,
     "metadata": {},
     "output_type": "execute_result"
    }
   ],
   "source": [
    "# Evaluating the model on unseen data(test set)\n",
    "\n",
    "model.evaluate(test_img, test_labels)"
   ]
  },
  {
   "cell_type": "code",
   "execution_count": 14,
   "metadata": {
    "colab": {
     "base_uri": "https://localhost:8080/"
    },
    "id": "Ryro1ZNX5Dlw",
    "outputId": "bfeadbda-34da-4a03-b89e-773ecec48212"
   },
   "outputs": [
    {
     "name": "stdout",
     "output_type": "stream",
     "text": [
      "313/313 [==============================] - 5s 14ms/step\n",
      "[1.4740347e-05 1.2727401e-10 1.4240813e-09 6.2866206e-07 7.0627992e-09\n",
      " 2.5764821e-04 5.7374755e-06 1.0081965e-02 4.4084823e-06 9.8963487e-01]\n"
     ]
    }
   ],
   "source": [
    "# The probability that this item is each of the 10 classes\n",
    "\n",
    "classifications = model.predict(test_img)\n",
    "\n",
    "print(classifications[0])"
   ]
  },
  {
   "cell_type": "code",
   "execution_count": 15,
   "metadata": {
    "colab": {
     "base_uri": "https://localhost:8080/"
    },
    "id": "6ftB5wnqGbx6",
    "outputId": "280a1461-ed31-46ef-f18b-3bf74e83708d"
   },
   "outputs": [
    {
     "data": {
      "text/plain": [
       "0.9896349"
      ]
     },
     "execution_count": 15,
     "metadata": {},
     "output_type": "execute_result"
    }
   ],
   "source": [
    "max(classifications[0])"
   ]
  },
  {
   "cell_type": "code",
   "execution_count": 16,
   "metadata": {
    "colab": {
     "base_uri": "https://localhost:8080/"
    },
    "id": "qxGg1oOk5Dsq",
    "outputId": "fa6f4d6e-d9b3-4d03-c03a-8080b7febd65"
   },
   "outputs": [
    {
     "data": {
      "text/plain": [
       "(10000, 10)"
      ]
     },
     "execution_count": 16,
     "metadata": {},
     "output_type": "execute_result"
    }
   ],
   "source": [
    "classifications.shape"
   ]
  },
  {
   "cell_type": "code",
   "execution_count": 17,
   "metadata": {
    "colab": {
     "base_uri": "https://localhost:8080/"
    },
    "id": "_EBHtk1tBOL7",
    "outputId": "295b85c5-11c9-429d-b3f4-158dbeb13e8f"
   },
   "outputs": [
    {
     "name": "stdout",
     "output_type": "stream",
     "text": [
      "9\n"
     ]
    }
   ],
   "source": [
    "print(test_labels[0])  # -----> first img"
   ]
  },
  {
   "cell_type": "code",
   "execution_count": 18,
   "metadata": {
    "id": "y2VN08IcBpts"
   },
   "outputs": [],
   "source": [
    "# Defining a new model which has 3 dense layers\n",
    "\n",
    "model = keras.models.Sequential([\n",
    "        keras.layers.Conv2D(64,(3,3), activation='relu', input_shape=(28,28,1)),\n",
    "        keras.layers.MaxPooling2D(2,2),\n",
    "        keras.layers.Conv2D(64,(3,3), activation='relu'),\n",
    "        keras.layers.MaxPooling2D(2,2),\n",
    "        keras.layers.Conv2D(16,(3,3), activation='relu'),\n",
    "        keras.layers.MaxPooling2D(2,2),\n",
    "        keras.layers.Flatten(),\n",
    "        keras.layers.Dense(512, activation='relu'),\n",
    "        keras.layers.Dense(128, activation='relu'),\n",
    "        keras.layers.Dense(10, activation='softmax')\n",
    "])"
   ]
  },
  {
   "cell_type": "code",
   "execution_count": 19,
   "metadata": {
    "colab": {
     "base_uri": "https://localhost:8080/"
    },
    "id": "zK1VLjHoBp0u",
    "outputId": "26bd920e-2a89-4510-dc07-bd686a125ceb"
   },
   "outputs": [
    {
     "name": "stdout",
     "output_type": "stream",
     "text": [
      "Epoch 1/10\n",
      "1875/1875 [==============================] - 103s 55ms/step - loss: 0.6041 - accuracy: 0.7764\n",
      "Epoch 2/10\n",
      "1875/1875 [==============================] - 102s 54ms/step - loss: 0.4107 - accuracy: 0.8504\n",
      "Epoch 3/10\n",
      "1875/1875 [==============================] - 99s 53ms/step - loss: 0.3565 - accuracy: 0.8699\n",
      "Epoch 4/10\n",
      "1875/1875 [==============================] - 99s 53ms/step - loss: 0.3269 - accuracy: 0.8803\n",
      "Epoch 5/10\n",
      "1875/1875 [==============================] - 98s 52ms/step - loss: 0.3058 - accuracy: 0.8866\n",
      "Epoch 6/10\n",
      "1875/1875 [==============================] - 99s 53ms/step - loss: 0.2884 - accuracy: 0.8941\n",
      "Epoch 7/10\n",
      "1875/1875 [==============================] - 97s 52ms/step - loss: 0.2732 - accuracy: 0.9005\n",
      "Epoch 8/10\n",
      "1875/1875 [==============================] - 99s 53ms/step - loss: 0.2599 - accuracy: 0.9049\n",
      "Epoch 9/10\n",
      "1875/1875 [==============================] - 96s 51ms/step - loss: 0.2472 - accuracy: 0.9085\n",
      "Epoch 10/10\n",
      "1875/1875 [==============================] - 96s 51ms/step - loss: 0.2365 - accuracy: 0.9139\n"
     ]
    },
    {
     "data": {
      "text/plain": [
       "<keras.callbacks.History at 0x7f59227e4d90>"
      ]
     },
     "execution_count": 19,
     "metadata": {},
     "output_type": "execute_result"
    }
   ],
   "source": [
    "# Fitting the data into the new model\n",
    "\n",
    "model.compile(optimizer = tf.optimizers.Adam(),\n",
    "              loss = 'sparse_categorical_crossentropy',\n",
    "              metrics=['accuracy'])\n",
    "\n",
    "model.fit(train_img, train_labels, epochs = 10)"
   ]
  },
  {
   "cell_type": "code",
   "execution_count": 20,
   "metadata": {
    "colab": {
     "base_uri": "https://localhost:8080/"
    },
    "id": "OVevr2y8Bp30",
    "outputId": "89038c13-8d2a-4f90-cf5f-249a79713600"
   },
   "outputs": [
    {
     "name": "stdout",
     "output_type": "stream",
     "text": [
      "313/313 [==============================] - 5s 15ms/step - loss: 0.3349 - accuracy: 0.8791\n"
     ]
    },
    {
     "data": {
      "text/plain": [
       "[0.3348575532436371, 0.8791000247001648]"
      ]
     },
     "execution_count": 20,
     "metadata": {},
     "output_type": "execute_result"
    }
   ],
   "source": [
    "# Evaluating the model\n",
    "\n",
    "model.evaluate(test_img, test_labels)"
   ]
  },
  {
   "cell_type": "code",
   "execution_count": 21,
   "metadata": {
    "colab": {
     "base_uri": "https://localhost:8080/"
    },
    "id": "TdTlsW7lBp8q",
    "outputId": "0ca1608e-ab13-40b1-8665-cc09738bf466"
   },
   "outputs": [
    {
     "name": "stdout",
     "output_type": "stream",
     "text": [
      "313/313 [==============================] - 5s 15ms/step\n",
      "[5.4232925e-07 3.9343693e-09 2.0679212e-11 1.4317601e-07 2.8099119e-09\n",
      " 6.8041496e-05 1.0150259e-07 2.0381862e-03 3.4690650e-08 9.9789304e-01]\n",
      "9\n"
     ]
    }
   ],
   "source": [
    "classifications = model.predict(test_img)\n",
    "\n",
    "print(classifications[0])\n",
    "print(test_labels[0])"
   ]
  },
  {
   "cell_type": "code",
   "execution_count": 23,
   "metadata": {
    "id": "GR1k-HCZBqE7"
   },
   "outputs": [],
   "source": [
    "# Defining callback class\n",
    "\n",
    "class myCallbacks(tf.keras.callbacks.Callback):\n",
    "    def on_epoch_end(self, epoch, logs = {}):\n",
    "        if(logs.get('loss')<0.23):\n",
    "          print(\"Canceling Training\")\n",
    "          self.model.stop_training = True"
   ]
  },
  {
   "cell_type": "code",
   "execution_count": 27,
   "metadata": {
    "colab": {
     "base_uri": "https://localhost:8080/"
    },
    "id": "Q3agxIKZBqHi",
    "outputId": "8f20120c-b2a2-4c9a-93ab-01b6a951c33c"
   },
   "outputs": [
    {
     "name": "stdout",
     "output_type": "stream",
     "text": [
      "Epoch 1/20\n",
      "1875/1875 [==============================] - 102s 54ms/step - loss: 0.6004 - accuracy: 0.7790\n",
      "Epoch 2/20\n",
      "1875/1875 [==============================] - 98s 52ms/step - loss: 0.4058 - accuracy: 0.8517\n",
      "Epoch 3/20\n",
      "1875/1875 [==============================] - 100s 53ms/step - loss: 0.3485 - accuracy: 0.8726\n",
      "Epoch 4/20\n",
      "1875/1875 [==============================] - 100s 53ms/step - loss: 0.3181 - accuracy: 0.8831\n",
      "Epoch 5/20\n",
      "1875/1875 [==============================] - 98s 52ms/step - loss: 0.2956 - accuracy: 0.8914\n",
      "Epoch 6/20\n",
      "1875/1875 [==============================] - 96s 51ms/step - loss: 0.2799 - accuracy: 0.8970\n",
      "Epoch 7/20\n",
      "1875/1875 [==============================] - 98s 52ms/step - loss: 0.2639 - accuracy: 0.9026\n",
      "Epoch 8/20\n",
      "1875/1875 [==============================] - 100s 53ms/step - loss: 0.2502 - accuracy: 0.9072\n",
      "Epoch 9/20\n",
      "1875/1875 [==============================] - 100s 53ms/step - loss: 0.2398 - accuracy: 0.9115\n",
      "Epoch 10/20\n",
      "1875/1875 [==============================] - ETA: 0s - loss: 0.2276 - accuracy: 0.9158Canceling Training\n",
      "1875/1875 [==============================] - 98s 52ms/step - loss: 0.2276 - accuracy: 0.9158\n"
     ]
    }
   ],
   "source": [
    "callback = myCallbacks()\n",
    "\n",
    "model = keras.models.Sequential([\n",
    "        keras.layers.Conv2D(64,(3,3), activation='relu', input_shape=(28,28,1)),\n",
    "        keras.layers.MaxPooling2D(2,2),\n",
    "        keras.layers.Conv2D(64,(3,3), activation='relu'),\n",
    "        keras.layers.MaxPooling2D(2,2),\n",
    "        keras.layers.Conv2D(16,(3,3), activation='relu'),\n",
    "        keras.layers.MaxPooling2D(2,2),\n",
    "        keras.layers.Flatten(),\n",
    "        keras.layers.Dense(512, activation='relu'),\n",
    "        keras.layers.Dense(128, activation='relu'),\n",
    "        keras.layers.Dense(10, activation='softmax')\n",
    "])\n",
    "\n",
    "model.compile(optimizer = tf.optimizers.Adam(),\n",
    "              loss = 'sparse_categorical_crossentropy',\n",
    "              metrics=['accuracy'])\n",
    "\n",
    "history = model.fit(train_img, train_labels, epochs = 20, callbacks = [callback])"
   ]
  },
  {
   "cell_type": "code",
   "execution_count": 28,
   "metadata": {
    "colab": {
     "base_uri": "https://localhost:8080/"
    },
    "id": "JYIkZC3Y-A5R",
    "outputId": "688aa26b-fcd7-471d-84cb-a6d9e1603063"
   },
   "outputs": [
    {
     "data": {
      "text/plain": [
       "dict_keys(['loss', 'accuracy'])"
      ]
     },
     "execution_count": 28,
     "metadata": {},
     "output_type": "execute_result"
    }
   ],
   "source": [
    "# Plotting the history\n",
    "\n",
    "history.history.keys()"
   ]
  },
  {
   "cell_type": "code",
   "execution_count": 32,
   "metadata": {
    "colab": {
     "base_uri": "https://localhost:8080/",
     "height": 573
    },
    "id": "TUsTvBnnDYtV",
    "outputId": "20bf422b-5994-4a01-da9f-db8c46aeb0a3"
   },
   "outputs": [
    {
     "data": {
      "image/png": "[encoded data removed]",
      "text/plain": [
       "<Figure size 432x288 with 1 Axes>"
      ]
     },
     "metadata": {
      "needs_background": "light"
     },
     "output_type": "display_data"
    },
    {
     "data": {
      "image/png": "[encoded data removed]",
      "text/plain": [
       "<Figure size 432x288 with 1 Axes>"
      ]
     },
     "metadata": {
      "needs_background": "light"
     },
     "output_type": "display_data"
    }
   ],
   "source": [
    "plt.plot(history.history['accuracy'])\n",
    "plt.title(\"Model Accuracy\")\n",
    "plt.xlabel(\"acuracy\")\n",
    "plt.ylabel(\"epoch\")\n",
    "plt.show()\n",
    "plt.plot(history.history['loss'])\n",
    "plt.title(\"Model loss\")\n",
    "plt.xlabel(\"loss\")\n",
    "plt.ylabel(\"epoch\")\n",
    "plt.show()"
   ]
  },
  {
   "cell_type": "code",
   "execution_count": 32,
   "metadata": {
    "id": "o2Jc3oOnJd_K"
   },
   "outputs": [],
   "source": []
  },
  {
   "cell_type": "code",
   "execution_count": null,
   "metadata": {
    "id": "4mSFSAjSTMHr"
   },
   "outputs": [],
   "source": []
  }
 ],
 "metadata": {
  "colab": {
   "provenance": []
  },
  "kernelspec": {
   "display_name": "Python 3 (ipykernel)",
   "language": "python",
   "name": "python3"
  },
  "language_info": {
   "codemirror_mode": {
    "name": "ipython",
    "version": 3
   },
   "file_extension": ".py",
   "mimetype": "text/x-python",
   "name": "python",
   "nbconvert_exporter": "python",
   "pygments_lexer": "ipython3",
   "version": "3.9.12"
  }
 },
 "nbformat": 4,
 "nbformat_minor": 4
}
